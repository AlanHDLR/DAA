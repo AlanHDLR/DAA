{
  "nbformat": 4,
  "nbformat_minor": 0,
  "metadata": {
    "colab": {
      "name": "Tarea_1  22-08-22",
      "provenance": [],
      "authorship_tag": "ABX9TyNNhT/D7e4CtIO2P6+u5R77",
      "include_colab_link": true
    },
    "kernelspec": {
      "name": "python3",
      "display_name": "Python 3"
    },
    "language_info": {
      "name": "python"
    }
  },
  "cells": [
    {
      "cell_type": "markdown",
      "metadata": {
        "id": "view-in-github",
        "colab_type": "text"
      },
      "source": [
        "<a href=\"https://colab.research.google.com/github/AlanHDLR/DAA/blob/main/Tarea_1_22_08_22.ipynb\" target=\"_parent\"><img src=\"https://colab.research.google.com/assets/colab-badge.svg\" alt=\"Open In Colab\"/></a>"
      ]
    },
    {
      "cell_type": "code",
      "execution_count": 83,
      "metadata": {
        "colab": {
          "base_uri": "https://localhost:8080/"
        },
        "id": "KtHY97KetcqQ",
        "outputId": "4c790649-29b8-440f-b1c4-acc76feca15e"
      },
      "outputs": [
        {
          "output_type": "stream",
          "name": "stdout",
          "text": [
            "99\n",
            "\n",
            "57\n"
          ]
        }
      ],
      "source": [
        "#Creamos la clase nodo\n",
        "class Nodo:\n",
        "    def __init__( self, value , left=None , center=None , right = None ):\n",
        "        self.data = value\n",
        "        self.left = left\n",
        "        self.center = center\n",
        "        self.right = right\n",
        "\n",
        "#Asignamos los valores a cada nodo \n",
        "head = Nodo( 20, left=Nodo(23, left=Nodo(None), center=Nodo(57), right=Nodo(None) ), \n",
        "            center=Nodo(19, left=Nodo(None), center=Nodo(None), right=Nodo(67, left=Nodo(None), center=Nodo(99), right=Nodo(None))), right=Nodo(None))\n",
        "\n",
        "#Imprimimos el número 99\n",
        "print(head.center.right.center.data)\n",
        "print()\n",
        "\n",
        "#Imprimimos el número 57\n",
        "print(head.left.center.data)"
      ]
    }
  ]
}