{
  "nbformat": 4,
  "nbformat_minor": 0,
  "metadata": {
    "colab": {
      "provenance": [],
      "authorship_tag": "ABX9TyMSrdjcIaU/xnlrgD5UGzSs",
      "include_colab_link": true
    },
    "kernelspec": {
      "name": "python3",
      "display_name": "Python 3"
    },
    "language_info": {
      "name": "python"
    }
  },
  "cells": [
    {
      "cell_type": "markdown",
      "metadata": {
        "id": "view-in-github",
        "colab_type": "text"
      },
      "source": [
        "<a href=\"https://colab.research.google.com/github/AlanHDLR/DAA/blob/main/Tarea_7_Patr%C3%B3n_.ipynb\" target=\"_parent\"><img src=\"https://colab.research.google.com/assets/colab-badge.svg\" alt=\"Open In Colab\"/></a>"
      ]
    },
    {
      "cell_type": "code",
      "execution_count": 55,
      "metadata": {
        "colab": {
          "base_uri": "https://localhost:8080/"
        },
        "id": "VpzGWpImx5x6",
        "outputId": "9c2a53ce-62ba-403b-d790-61b5e569e80e"
      },
      "outputs": [
        {
          "output_type": "stream",
          "name": "stdout",
          "text": [
            "El patrón inicia en el indice: 266 y termina en el indice: 272 \n",
            "Se encontró el patrón: 1010101\n",
            "Veces que aparece el patrón: 1\n"
          ]
        }
      ],
      "source": [
        "cadena = \"1110010001101110100011001111000110001110001110001110100011010001110001110001110001110001110001110001110001110001110001110001110001110001110001110001110001110001110001110001110001110001110001110001110001110001110001110001110001110001110001110001110001110001101000111110101010100111100011000\"\n",
        "\n",
        "patron = \"1010101\"\n",
        "\n",
        "if patron in cadena:\n",
        "  print(f\"El patrón inicia en el indice: {cadena.find(patron)} y termina en el indice: {cadena.find(patron)+len(patron)-1} \")\n",
        "  print(f\"Se encontró el patrón: {cadena[cadena.find(patron):cadena.find(patron)+len(patron):]}\")\n",
        "  print(f\"Veces que aparece el patrón: {cadena.count(patron)}\")\n",
        "\n",
        "else:\n",
        "  print(\"El patrón buscado, no se encuntra en la cadena\")\n",
        "\n"
      ]
    }
  ]
}