{
  "nbformat": 4,
  "nbformat_minor": 0,
  "metadata": {
    "colab": {
      "provenance": [],
      "collapsed_sections": [],
      "authorship_tag": "ABX9TyOZNnpGoyk5UsQnUjZMLCWG",
      "include_colab_link": true
    },
    "kernelspec": {
      "name": "python3",
      "display_name": "Python 3"
    },
    "language_info": {
      "name": "python"
    }
  },
  "cells": [
    {
      "cell_type": "markdown",
      "metadata": {
        "id": "view-in-github",
        "colab_type": "text"
      },
      "source": [
        "<a href=\"https://colab.research.google.com/github/AlanHDLR/DAA/blob/main/Bucket_sort.ipynb\" target=\"_parent\"><img src=\"https://colab.research.google.com/assets/colab-badge.svg\" alt=\"Open In Colab\"/></a>"
      ]
    },
    {
      "cell_type": "code",
      "source": [
        "def seleccion(data):\n",
        "  print(f\"Cubeta: { data }\")\n",
        "\n",
        "  for inicio in range(len(data)):\n",
        "    menor = inicio\n",
        "    for index in range(inicio, len(data),1):\n",
        "      if data[index] < data[menor]:\n",
        "        menor = index\n",
        "    tmp = data[inicio]\n",
        "    data[inicio] = data[menor]\n",
        "    data[menor] = tmp\n",
        "    print(data)\n",
        "  return data\n"
      ],
      "metadata": {
        "id": "Hq4WdKYNuyfS"
      },
      "execution_count": 72,
      "outputs": []
    },
    {
      "cell_type": "code",
      "execution_count": 73,
      "metadata": {
        "id": "kteiORxKOY13",
        "colab": {
          "base_uri": "https://localhost:8080/"
        },
        "outputId": "c512519e-7c85-4c22-c3de-6c551e1ac39c"
      },
      "outputs": [
        {
          "output_type": "stream",
          "name": "stdout",
          "text": [
            "Cubeta: [4]\n",
            "[4]\n",
            "Cubeta: [12, 11, 10, 13]\n",
            "[10, 11, 12, 13]\n",
            "[10, 11, 12, 13]\n",
            "[10, 11, 12, 13]\n",
            "[10, 11, 12, 13]\n",
            "Cubeta: [22]\n",
            "[22]\n",
            "Cubeta: [33, 31]\n",
            "[31, 33]\n",
            "[31, 33]\n",
            "Cubeta: [41]\n",
            "[41]\n",
            "Cubeta: [57]\n",
            "[57]\n",
            "Cubeta: []\n",
            "Cubeta: [70, 78]\n",
            "[70, 78]\n",
            "[70, 78]\n",
            "Cubeta: [89, 88]\n",
            "[88, 89]\n",
            "[88, 89]\n",
            "Cubeta: [90, 97]\n",
            "[90, 97]\n",
            "[90, 97]\n",
            "La cadena ordenada es:[4, 10, 11, 12, 13, 22, 31, 33, 41, 57, 70, 78, 88, 89, 90, 97]\n"
          ]
        }
      ],
      "source": [
        "def cubetas(datos,slots):\n",
        "\n",
        "  x = 0\n",
        "  slots = 10\n",
        "  contador = 0\n",
        "  cubetas = []\n",
        "\n",
        "  for i in range(0,10,1):\n",
        "    cubetas.append([])\n",
        "\n",
        "  for index in range(len(datos)):\n",
        "    num = datos[index]//slots\n",
        "    cubetas[num].append(datos[index])\n",
        "\n",
        "  for recorrido in range(len(cubetas)):\n",
        "    x = seleccion(cubetas[recorrido])\n",
        "    cubetas[recorrido] = x\n",
        "\n",
        "  for cub in cubetas:\n",
        "    for val in cub:\n",
        "      datos[contador] = val\n",
        "      contador +=1\n",
        "\n",
        "  cadena = datos\n",
        "  print(f\"La cadena ordenada es:{ cadena }\")\n",
        "\n",
        "datos = [70, 12, 11, 78, 90, 33, 4, 31, 57, 10, 41, 22, 89, 88, 97, 13]\n",
        "cubetas(datos,10)\n",
        "\n",
        "\n",
        "\n",
        "\n",
        "\n",
        "    "
      ]
    }
  ]
}